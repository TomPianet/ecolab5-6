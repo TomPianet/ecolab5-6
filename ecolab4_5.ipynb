{
  "nbformat": 4,
  "nbformat_minor": 0,
  "metadata": {
    "colab": {
      "provenance": [],
      "authorship_tag": "ABX9TyOto9Oc97olvO7PNWvM9uC9",
      "include_colab_link": true
    },
    "kernelspec": {
      "name": "python3",
      "display_name": "Python 3"
    },
    "language_info": {
      "name": "python"
    }
  },
  "cells": [
    {
      "cell_type": "markdown",
      "metadata": {
        "id": "view-in-github",
        "colab_type": "text"
      },
      "source": [
        "<a href=\"https://colab.research.google.com/github/TomPianet/ecolab5-6/blob/main/ecolab4_5.ipynb\" target=\"_parent\"><img src=\"https://colab.research.google.com/assets/colab-badge.svg\" alt=\"Open In Colab\"/></a>"
      ]
    },
    {
      "cell_type": "code",
      "execution_count": null,
      "metadata": {
        "id": "mpjUh34PoKJL"
      },
      "outputs": [],
      "source": [
        "import random\n",
        "\n",
        "from point import Point\n",
        "\n",
        "\n",
        "class ColoredPoint(Point):  # this class inherits from point\n",
        "    COLORS = [\"red\", \"blue\", \"green\", \"purple\", \"pink\", \"beige\", \"bordeaux\", \"marsala\", \"peach\", \"turquoise\", \"saffron\",\n",
        "              \"magenta\"]\n",
        "\n",
        "    def _init_(self, x, y, color):\n",
        "        self.x = x\n",
        "        self.y = y\n",
        "        if color in self.COLORS:  # you can only assign colors in COLORS\n",
        "            self.color = color\n",
        "        else:\n",
        "            raise Exception(f\"That is an invalid color, accepted colors are {self.COLORS}\")\n",
        "\n",
        "    def _str_(self):\n",
        "        return f\"{self.color}({self.x}, {self.y})\"\n",
        "\n",
        "    @classmethod  # decorator, method that is a classmethod, can be called with the name of a class instead of having to call p1\n",
        "    def add_extra_color(cls, color):\n",
        "        cls.COLORS_append(color)\n",
        "\n",
        "    @property\n",
        "    def distance_origin(self):\n",
        "        result = (self.x * 2 + self.y2) * 0.5\n",
        "        if result == int(result):\n",
        "            return int(result)\n",
        "        else:\n",
        "            return result\n",
        "\n",
        "\n",
        "p1 = ColoredPoint(10, 10, \"red\")\n",
        "\n",
        "# lets create a list of random 5 colored points\n",
        "colored_points = []\n",
        "for _ in range(5):\n",
        "    colored_points.append(\n",
        "        ColoredPoint(random.randint(-100, 100),\n",
        "                     random.randint(-100, 100),\n",
        "                     random.choice(ColoredPoint.COLORS)\n",
        "                     )\n",
        "    )\n",
        "\n",
        "if _name_ = \"_main_\":\n",
        "    print()\n",
        "print(colored_points)\n",
        "\n",
        "# p1.add_extra_color(\"orange\") (without classmethod using \"self\" instead of \"cls\")\n",
        "ColoredPoint.add_extra_color(\"orange\")\n",
        "p2 = ColoredPoint(3, 4, \"orange\")\n",
        "p2.x = 77  # retroactively changing the x?? no bueno\n",
        "print(p2)\n",
        "print(f\"p2 = {p2} and has distance to origin = {p2.distance_origin()}\")"
      ]
    }
  ]
}